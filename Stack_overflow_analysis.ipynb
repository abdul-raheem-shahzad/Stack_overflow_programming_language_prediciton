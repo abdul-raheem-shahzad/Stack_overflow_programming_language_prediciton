{
  "nbformat": 4,
  "nbformat_minor": 0,
  "metadata": {
    "colab": {
      "provenance": []
    },
    "kernelspec": {
      "name": "python3",
      "display_name": "Python 3"
    },
    "language_info": {
      "name": "python"
    }
  },
  "cells": [
    {
      "cell_type": "markdown",
      "source": [
        "## **Importing Libraries**"
      ],
      "metadata": {
        "id": "LLu17zhuLyho"
      }
    },
    {
      "cell_type": "code",
      "execution_count": null,
      "metadata": {
        "id": "8RZOuS9LWQvv"
      },
      "outputs": [],
      "source": [
        "import matplotlib.pyplot as plt\n",
        "import os\n",
        "import re\n",
        "import shutil\n",
        "import string\n",
        "import tensorflow as tf\n",
        "\n",
        "from tensorflow.keras import layers\n",
        "from tensorflow.keras import losses\n"
      ]
    },
    {
      "cell_type": "markdown",
      "source": [
        "## **Downloading and exploring the StackOverflow dataset**"
      ],
      "metadata": {
        "id": "lXqw2x2xL8g0"
      }
    },
    {
      "cell_type": "code",
      "execution_count": null,
      "metadata": {
        "id": "k7ZYnuajVlFN"
      },
      "outputs": [],
      "source": [
        "# Downloading and exploring the StackOverflow dataset\n",
        "import pathlib\n",
        "data_url = 'https://storage.googleapis.com/download.tensorflow.org/data/stack_overflow_16k.tar.gz'\n",
        "dataset = tf.keras.utils.get_file(\n",
        "  'stack_overflow_16k.tar.gz',\n",
        "  data_url,\n",
        "  untar=True,  # extract form compress file\n",
        "  cache_dir='stack_overflow', # so we dont need to download agian and again ( takai bar bar download na karan pare aur idhar para rahe)\n",
        "  cache_subdir='.') # to save in root directory (yani upar wali direcotry ka root mai save ho)\n",
        "\n",
        "\n",
        "dataset_dir = pathlib.Path(dataset).parent # Get the parent directory of the \"dataset\" path"
      ]
    },
    {
      "cell_type": "markdown",
      "source": [
        "## **Check what is inside the dataset directory**"
      ],
      "metadata": {
        "id": "IXkach-zMRAl"
      }
    },
    {
      "cell_type": "code",
      "execution_count": null,
      "metadata": {
        "id": "355CfOvsV1pl",
        "colab": {
          "base_uri": "https://localhost:8080/"
        },
        "outputId": "b3a02c98-a561-4f39-addb-cff7457f2f2a"
      },
      "outputs": [
        {
          "output_type": "execute_result",
          "data": {
            "text/plain": [
              "['stack_overflow_16k.tar.gz', 'test', 'README.md', 'train']"
            ]
          },
          "metadata": {},
          "execution_count": 33
        }
      ],
      "source": [
        "os.listdir(dataset_dir) #check karo esa"
      ]
    },
    {
      "cell_type": "markdown",
      "source": [
        "## **Go to Training Dataset**"
      ],
      "metadata": {
        "id": "mHGqAjuzMbOx"
      }
    },
    {
      "cell_type": "code",
      "execution_count": null,
      "metadata": {
        "id": "7ASND15oXpF1",
        "colab": {
          "base_uri": "https://localhost:8080/"
        },
        "outputId": "193a4095-7018-418a-c0d0-c8a3cfcef196"
      },
      "outputs": [
        {
          "output_type": "execute_result",
          "data": {
            "text/plain": [
              "['python', 'java', 'javascript', 'csharp']"
            ]
          },
          "metadata": {},
          "execution_count": 34
        }
      ],
      "source": [
        "train_dir = os.path.join(dataset_dir, 'train') # es mai train ka data ka link add karo aur train ko use karo\n",
        "os.listdir(train_dir)"
      ]
    },
    {
      "cell_type": "markdown",
      "source": [
        "## **Checking a sample file**"
      ],
      "metadata": {
        "id": "z0QtN5JDMnbm"
      }
    },
    {
      "cell_type": "code",
      "execution_count": null,
      "metadata": {
        "id": "R7g8hFvzWLIZ",
        "colab": {
          "base_uri": "https://localhost:8080/"
        },
        "outputId": "c7c476b3-780f-44d9-bbc9-a80e65c00242"
      },
      "outputs": [
        {
          "output_type": "stream",
          "name": "stdout",
          "text": [
            "\"using code to write a function that calculates values for projectile motion i have an assignment that asks me to use some given code to write a function which calculates the angle needed to hit a target 10 metres away. ..here is the given code: ..from visual import *.from visual.graph import * # for the graphing functions .#create a graph display window (gdisplay) ..win = gdisplay(xtitle=\"\"distance [m]\"\", ytitle=\"\"height [m]\"\") .#and a curve on this display ..poscurve = gcurve(gdisplay=win, color=color.cyan) .#target position (10 meters away) ..target_pos = vector(10,0,0) .#set the starting angle (in degrees) ..angle = 45 .#set the magnitude of the starting velocity (in m/s) ..v0 = 12.0 .#gravity vector (m/s**2) ..g = vector(0, -9.8, 0) .#create a vector for the projectile's velocity ..velocity = v0 * vector(cos(anglepi/180), sin(anglepi/180), 0) .#and the position ..position = vector(0,0,0) .dt = 0.01 # time step .#start loop. each time taking a small step in time ..while (position.y &gt; 0) or (velocity.y &gt; 0): # change in position # dx =          (dx/dt) * dt dx = velocity * dt .# change in velocity .# dv = (dv/dt) * dt .dv = g * dt ..# update the position and velocity .position = position + dx .velocity = velocity + dv ..# plot the current position .poscurve.plot(pos=position) .#when loop finishes, velocity.y must be &lt; 0, and position.y &lt; 0 ..print \"\"landed at x position: \"\", position.x print \"\"x distance to target: \"\",     position.x - target_pos.x...how would i now write a function to calculate the required value? i have no idea where to start, any help would be greatly appreciated! ..thanks\"\n",
            "\n"
          ]
        }
      ],
      "source": [
        "sample_file = os.path.join(train_dir, 'python/1365.txt')\n",
        "with open(sample_file) as f:\n",
        "  print(f.read())"
      ]
    },
    {
      "cell_type": "markdown",
      "source": [
        "## **Create a dataset with 80% of the data in the train_dir directory used for training 20% used for validation**"
      ],
      "metadata": {
        "id": "_a-yQbbNMtLD"
      }
    },
    {
      "cell_type": "code",
      "execution_count": null,
      "metadata": {
        "id": "nOrK-MTYaw3C",
        "colab": {
          "base_uri": "https://localhost:8080/"
        },
        "outputId": "63b26c8a-ae3b-4f1b-b41d-6bdbd41d2554"
      },
      "outputs": [
        {
          "output_type": "stream",
          "name": "stdout",
          "text": [
            "Found 8000 files belonging to 4 classes.\n",
            "Using 6400 files for training.\n"
          ]
        }
      ],
      "source": [
        "# Create a dataset with 80% of the data in the train_dir directory used for training\n",
        "# and 20% used for validation\n",
        "batch_size = 32\n",
        "seed = 42\n",
        "raw_train_ds = tf.keras.preprocessing.text_dataset_from_directory(\n",
        "  train_dir,\n",
        "  batch_size=batch_size,\n",
        "  validation_split=0.2,\n",
        "  subset='training',\n",
        "  seed=seed)"
      ]
    },
    {
      "cell_type": "markdown",
      "source": [
        "## **Validation Set**"
      ],
      "metadata": {
        "id": "Miybjt5OcAne"
      }
    },
    {
      "cell_type": "code",
      "source": [
        "raw_val_ds = tf.keras.preprocessing.text_dataset_from_directory(\n",
        "  train_dir,\n",
        "  batch_size=batch_size,\n",
        "  validation_split=0.2, \n",
        "  subset='validation',\n",
        "  seed=seed)"
      ],
      "metadata": {
        "colab": {
          "base_uri": "https://localhost:8080/"
        },
        "id": "4iLEvlolb_Ye",
        "outputId": "00f4af51-66b0-40ef-a8a0-23e88eb6d4b7"
      },
      "execution_count": null,
      "outputs": [
        {
          "output_type": "stream",
          "name": "stdout",
          "text": [
            "Found 8000 files belonging to 4 classes.\n",
            "Using 1600 files for validation.\n"
          ]
        }
      ]
    },
    {
      "cell_type": "markdown",
      "source": [
        "## **Checking Labels**"
      ],
      "metadata": {
        "id": "K5cJPHnGNG5U"
      }
    },
    {
      "cell_type": "code",
      "execution_count": null,
      "metadata": {
        "id": "51wNaPPApk1K",
        "colab": {
          "base_uri": "https://localhost:8080/"
        },
        "outputId": "f6f5b36d-acd0-4eae-c968-0bdfd8f19740"
      },
      "outputs": [
        {
          "output_type": "stream",
          "name": "stdout",
          "text": [
            "Label 0 corresponds to csharp\n",
            "Label 1 corresponds to java\n",
            "Label 2 corresponds to javascript\n",
            "Label 3 corresponds to python\n"
          ]
        }
      ],
      "source": [
        "for i, label in enumerate(raw_train_ds.class_names):\n",
        "  print(\"Label\", i, \"corresponds to\", label)"
      ]
    },
    {
      "cell_type": "markdown",
      "source": [
        "## **Perfroming NLP**"
      ],
      "metadata": {
        "id": "j9ozpNODNYaf"
      }
    },
    {
      "cell_type": "code",
      "source": [
        "VOCAB_SIZE = 10000\n",
        "binary_vectorize_layer = tf.keras.layers.TextVectorization(\n",
        "  max_tokens=VOCAB_SIZE,\n",
        "  output_mode='binary') #to represent every number with two words # har word ko two number sai represent kai\n",
        "MAX_SEQUENCE_LENGTH = 250"
      ],
      "metadata": {
        "id": "rQY5dGUXcc48"
      },
      "execution_count": null,
      "outputs": []
    },
    {
      "cell_type": "code",
      "source": [
        "int_vectorize_layer = tf.keras.layers.TextVectorization(\n",
        "  max_tokens=VOCAB_SIZE,\n",
        "  output_mode='int',\n",
        "  output_sequence_length=MAX_SEQUENCE_LENGTH)"
      ],
      "metadata": {
        "id": "oaKw0BNRg643"
      },
      "execution_count": null,
      "outputs": []
    },
    {
      "cell_type": "code",
      "source": [
        "# Make a text-only dataset (without labels), then call adapt\n",
        "train_text = raw_train_ds.map(lambda text, labels: text)\n",
        "binary_vectorize_layer.adapt(train_text)\n",
        "int_vectorize_layer.adapt(train_text)"
      ],
      "metadata": {
        "id": "4LkM1_XNhFTa"
      },
      "execution_count": null,
      "outputs": []
    },
    {
      "cell_type": "code",
      "source": [
        "def binary_vectorize_text(text, label):\n",
        "  text = tf.expand_dims(text, -1)\n",
        "  return binary_vectorize_layer(text), label\n",
        "def int_vectorize_text(text, label):\n",
        "  text = tf.expand_dims(text, -1)\n",
        "  return int_vectorize_layer(text), label\n",
        "binary_train_ds = raw_train_ds.map(binary_vectorize_text)\n",
        "binary_val_ds = raw_val_ds.map(binary_vectorize_text)\n",
        "binary_test_ds = raw_test_ds.map(binary_vectorize_text)\n",
        "int_train_ds = raw_train_ds.map(int_vectorize_text)\n",
        "int_val_ds = raw_val_ds.map(int_vectorize_text)\n",
        "int_test_ds = raw_test_ds.map(int_vectorize_text)"
      ],
      "metadata": {
        "id": "Dead-u66hPOz"
      },
      "execution_count": null,
      "outputs": []
    },
    {
      "cell_type": "code",
      "source": [
        "AUTOTUNE = tf.data.AUTOTUNE\n",
        "def configure_dataset(dataset):\n",
        "  return dataset.cache().prefetch(buffer_size=AUTOTUNE)\n",
        "binary_train_ds = configure_dataset(binary_train_ds)\n",
        "binary_val_ds = configure_dataset(binary_val_ds)\n",
        "binary_test_ds = configure_dataset(binary_test_ds)\n",
        "int_train_ds = configure_dataset(int_train_ds)\n",
        "int_val_ds = configure_dataset(int_val_ds)\n",
        "int_test_ds = configure_dataset(int_test_ds)"
      ],
      "metadata": {
        "id": "47bkJGPjheAU"
      },
      "execution_count": null,
      "outputs": []
    },
    {
      "cell_type": "code",
      "source": [
        "binary_model = tf.keras.Sequential([layers.Dense(4)])\n",
        "binary_model.compile(\n",
        "  loss=losses.SparseCategoricalCrossentropy(from_logits=True),\n",
        "  optimizer='adam',\n",
        "  metrics=['accuracy'])\n",
        "history = binary_model.fit( \n",
        "  binary_train_ds, validation_data=binary_val_ds, epochs=10)"
      ],
      "metadata": {
        "colab": {
          "base_uri": "https://localhost:8080/"
        },
        "id": "rbXT91t7hsEA",
        "outputId": "ff4440a3-7b1c-49d1-ac65-b050d63111f2"
      },
      "execution_count": null,
      "outputs": [
        {
          "output_type": "stream",
          "name": "stdout",
          "text": [
            "Epoch 1/10\n",
            "200/200 [==============================] - 4s 20ms/step - loss: 1.1172 - accuracy: 0.6448 - val_loss: 0.9122 - val_accuracy: 0.7769\n",
            "Epoch 2/10\n",
            "200/200 [==============================] - 1s 4ms/step - loss: 0.7781 - accuracy: 0.8198 - val_loss: 0.7488 - val_accuracy: 0.7956\n",
            "Epoch 3/10\n",
            "200/200 [==============================] - 1s 4ms/step - loss: 0.6270 - accuracy: 0.8625 - val_loss: 0.6634 - val_accuracy: 0.8131\n",
            "Epoch 4/10\n",
            "200/200 [==============================] - 1s 5ms/step - loss: 0.5336 - accuracy: 0.8866 - val_loss: 0.6101 - val_accuracy: 0.8238\n",
            "Epoch 5/10\n",
            "200/200 [==============================] - 1s 4ms/step - loss: 0.4677 - accuracy: 0.9042 - val_loss: 0.5735 - val_accuracy: 0.8319\n",
            "Epoch 6/10\n",
            "200/200 [==============================] - 1s 5ms/step - loss: 0.4174 - accuracy: 0.9152 - val_loss: 0.5469 - val_accuracy: 0.8356\n",
            "Epoch 7/10\n",
            "200/200 [==============================] - 1s 4ms/step - loss: 0.3772 - accuracy: 0.9273 - val_loss: 0.5268 - val_accuracy: 0.8369\n",
            "Epoch 8/10\n",
            "200/200 [==============================] - 1s 5ms/step - loss: 0.3439 - accuracy: 0.9364 - val_loss: 0.5113 - val_accuracy: 0.8394\n",
            "Epoch 9/10\n",
            "200/200 [==============================] - 1s 4ms/step - loss: 0.3158 - accuracy: 0.9419 - val_loss: 0.4991 - val_accuracy: 0.8413\n",
            "Epoch 10/10\n",
            "200/200 [==============================] - 1s 4ms/step - loss: 0.2914 - accuracy: 0.9486 - val_loss: 0.4894 - val_accuracy: 0.8419\n"
          ]
        }
      ]
    },
    {
      "cell_type": "code",
      "source": [
        "# Creating a plot of accuracy and loss over time\n",
        "history_dict = history.history\n",
        "acc = history_dict['accuracy']\n",
        "val_acc = history_dict['val_accuracy']\n",
        "loss = history_dict['loss']\n",
        "val_loss = history_dict['val_loss']\n",
        "epochs = range(1, len(acc) + 1)\n",
        "# \"bo\" is for \"blue dot\"\n",
        "plt.plot(epochs, loss, 'bo', label='Training loss')\n",
        "# b is for \"solid blue line\"\n",
        "plt.plot(epochs, val_loss, 'b', label='Validation loss')\n",
        "plt.title('Training and validation loss')\n",
        "plt.xlabel('Epochs')\n",
        "plt.ylabel('Loss')\n",
        "plt.legend()\n",
        "plt.show()"
      ],
      "metadata": {
        "colab": {
          "base_uri": "https://localhost:8080/",
          "height": 295
        },
        "id": "RSgS0pK_hyz-",
        "outputId": "7d90730f-2573-400f-c22c-7e9e0f391064"
      },
      "execution_count": null,
      "outputs": [
        {
          "output_type": "display_data",
          "data": {
            "text/plain": [
              "<Figure size 432x288 with 1 Axes>"
            ],
            "image/png": "[encoded data removed]"
          },
          "metadata": {
            "needs_background": "light"
          }
        }
      ]
    },
    {
      "cell_type": "code",
      "source": [
        "plt.plot(epochs, acc, 'bo', label='Training acc')\n",
        "plt.plot(epochs, val_acc, 'b', label='Validation acc')\n",
        "plt.title('Training and validation accuracy')\n",
        "plt.xlabel('Epochs')\n",
        "plt.ylabel('Accuracy')\n",
        "plt.legend(loc='lower right')\n",
        "plt.show()"
      ],
      "metadata": {
        "colab": {
          "base_uri": "https://localhost:8080/",
          "height": 295
        },
        "id": "L1rn0s15h4M3",
        "outputId": "c8d4263b-4f64-4a68-9693-556c3e84caa6"
      },
      "execution_count": null,
      "outputs": [
        {
          "output_type": "display_data",
          "data": {
            "text/plain": [
              "<Figure size 432x288 with 1 Axes>"
            ],
            "image/png": "[encoded data removed]"
          },
          "metadata": {
            "needs_background": "light"
          }
        }
      ]
    },
    {
      "cell_type": "code",
      "source": [
        "def create_model(vocab_size, num_labels):\n",
        "  model = tf.keras.Sequential([\n",
        "    layers.Embedding(vocab_size, 64, mask_zero=True),\n",
        "    layers.Conv1D(64, 5, padding=\"valid\", activation=\"relu\", strides=2),\n",
        "    layers.GlobalMaxPooling1D(),\n",
        "    layers.Dense(num_labels)\n",
        "    ])\n",
        "  return model\n",
        "# vocab_size is VOCAB_SIZE + 1 since 0 is used additionally for padding.\n",
        "int_model = create_model(vocab_size=VOCAB_SIZE + 1, num_labels=4)\n",
        "int_model.compile(\n",
        "  loss=losses.SparseCategoricalCrossentropy(from_logits=True),\n",
        "  optimizer='adam',\n",
        "  metrics=['accuracy'])\n",
        "history = int_model.fit(int_train_ds, validation_data=int_val_ds, epochs=5)"
      ],
      "metadata": {
        "colab": {
          "base_uri": "https://localhost:8080/"
        },
        "id": "OaD27Qvhh9ds",
        "outputId": "b9f00aed-f783-4be4-e56c-eb14444463cc"
      },
      "execution_count": null,
      "outputs": [
        {
          "output_type": "stream",
          "name": "stdout",
          "text": [
            "Epoch 1/5\n",
            "200/200 [==============================] - 9s 42ms/step - loss: 1.1492 - accuracy: 0.5111 - val_loss: 0.7677 - val_accuracy: 0.6969\n",
            "Epoch 2/5\n",
            "200/200 [==============================] - 6s 31ms/step - loss: 0.6253 - accuracy: 0.7548 - val_loss: 0.5612 - val_accuracy: 0.7894\n",
            "Epoch 3/5\n",
            "200/200 [==============================] - 7s 35ms/step - loss: 0.3831 - accuracy: 0.8792 - val_loss: 0.4927 - val_accuracy: 0.8231\n",
            "Epoch 4/5\n",
            "200/200 [==============================] - 9s 46ms/step - loss: 0.2150 - accuracy: 0.9477 - val_loss: 0.4874 - val_accuracy: 0.8163\n",
            "Epoch 5/5\n",
            "200/200 [==============================] - 6s 31ms/step - loss: 0.1097 - accuracy: 0.9816 - val_loss: 0.5086 - val_accuracy: 0.8125\n"
          ]
        }
      ]
    },
    {
      "cell_type": "code",
      "source": [
        "# Creating a plot of accuracy and loss over time\n",
        "history_dict = history.history\n",
        "acc = history_dict['accuracy']\n",
        "val_acc = history_dict['val_accuracy']\n",
        "loss = history_dict['loss']\n",
        "val_loss = history_dict['val_loss']\n",
        "epochs = range(1, len(acc)+1)\n",
        "# \"bo\" is for \"blue dot\"\n",
        "plt.plot(epochs, loss, 'bo', label='Training loss')\n",
        "# b is for \"solid blue line\"\n",
        "plt.plot(epochs, val_loss, 'b', label='Validation loss')\n",
        "plt.title('Training and validation loss')\n",
        "plt.xlabel('Epochs')\n",
        "plt.ylabel('Loss')\n",
        "plt.legend()\n",
        "plt.show()"
      ],
      "metadata": {
        "colab": {
          "base_uri": "https://localhost:8080/",
          "height": 295
        },
        "id": "pmauPtZHiDpQ",
        "outputId": "8a8349a6-2292-4d77-e260-dfccf30cfe38"
      },
      "execution_count": null,
      "outputs": [
        {
          "output_type": "display_data",
          "data": {
            "text/plain": [
              "<Figure size 432x288 with 1 Axes>"
            ],
            "image/png": "[encoded data removed]"
          },
          "metadata": {
            "needs_background": "light"
          }
        }
      ]
    },
    {
      "cell_type": "code",
      "source": [
        "plt.plot(epochs, acc, 'bo', label='Training acc')\n",
        "plt.plot(epochs, val_acc, 'b', label='Validation acc')\n",
        "plt.title('Traininf and validation accuracy')\n",
        "plt.xlabel('Epochs')\n",
        "plt.ylabel('Accuracy')\n",
        "plt.legend(loc='lower right')\n",
        "plt.show()"
      ],
      "metadata": {
        "colab": {
          "base_uri": "https://localhost:8080/",
          "height": 295
        },
        "id": "M0Y5wyzLiIh3",
        "outputId": "80e53ecb-7410-4469-c0d7-0c808218cfae"
      },
      "execution_count": null,
      "outputs": [
        {
          "output_type": "display_data",
          "data": {
            "text/plain": [
              "<Figure size 432x288 with 1 Axes>"
            ],
            "image/png": "[encoded data removed]"
          },
          "metadata": {
            "needs_background": "light"
          }
        }
      ]
    },
    {
      "cell_type": "code",
      "source": [
        "print(\"Linear model on binary vectorized data:\")\n",
        "print(binary_model.summary())"
      ],
      "metadata": {
        "colab": {
          "base_uri": "https://localhost:8080/"
        },
        "id": "XygWb0Q1iQB3",
        "outputId": "2455c828-f39d-4495-d3e8-72e6018fc237"
      },
      "execution_count": null,
      "outputs": [
        {
          "output_type": "stream",
          "name": "stdout",
          "text": [
            "Linear model on binary vectorized data:\n",
            "Model: \"sequential_2\"\n",
            "_________________________________________________________________\n",
            " Layer (type)                Output Shape              Param #   \n",
            "=================================================================\n",
            " dense_1 (Dense)             (None, 4)                 40004     \n",
            "                                                                 \n",
            "=================================================================\n",
            "Total params: 40,004\n",
            "Trainable params: 40,004\n",
            "Non-trainable params: 0\n",
            "_________________________________________________________________\n",
            "None\n"
          ]
        }
      ]
    },
    {
      "cell_type": "code",
      "source": [
        "print(\"ConvNet model on int vectorized data:\")\n",
        "print(int_model.summary())"
      ],
      "metadata": {
        "colab": {
          "base_uri": "https://localhost:8080/"
        },
        "id": "Gr5I62O4iXW8",
        "outputId": "4a70f694-f18d-4e98-ca1f-cbbd0828be8d"
      },
      "execution_count": null,
      "outputs": [
        {
          "output_type": "stream",
          "name": "stdout",
          "text": [
            "ConvNet model on int vectorized data:\n",
            "Model: \"sequential_3\"\n",
            "_________________________________________________________________\n",
            " Layer (type)                Output Shape              Param #   \n",
            "=================================================================\n",
            " embedding_1 (Embedding)     (None, None, 64)          640064    \n",
            "                                                                 \n",
            " conv1d (Conv1D)             (None, None, 64)          20544     \n",
            "                                                                 \n",
            " global_max_pooling1d (Globa  (None, 64)               0         \n",
            " lMaxPooling1D)                                                  \n",
            "                                                                 \n",
            " dense_2 (Dense)             (None, 4)                 260       \n",
            "                                                                 \n",
            "=================================================================\n",
            "Total params: 660,868\n",
            "Trainable params: 660,868\n",
            "Non-trainable params: 0\n",
            "_________________________________________________________________\n",
            "None\n"
          ]
        }
      ]
    },
    {
      "cell_type": "code",
      "source": [
        "# Evaluating the model\n",
        "binary_loss, binary_accuracy = binary_model.evaluate(binary_test_ds)\n",
        "int_loss, int_accuracy = int_model.evaluate(int_test_ds)\n",
        "print(\"Binary model accuracy: {:2.2%}\".format(binary_accuracy))\n",
        "print(\"Int model accuracy: {:2.2%}\".format(int_accuracy))"
      ],
      "metadata": {
        "colab": {
          "base_uri": "https://localhost:8080/"
        },
        "id": "q-6k70zDifXY",
        "outputId": "3edf54c1-f611-4a9d-ebdd-ea25328eef75"
      },
      "execution_count": null,
      "outputs": [
        {
          "output_type": "stream",
          "name": "stdout",
          "text": [
            "782/782 [==============================] - 10s 12ms/step - loss: 1.8367 - accuracy: 0.2130\n",
            "782/782 [==============================] - 12s 16ms/step - loss: 1.9880 - accuracy: 0.1770\n",
            "Binary model accuracy: 21.30%\n",
            "Int model accuracy: 17.70%\n"
          ]
        }
      ]
    },
    {
      "cell_type": "code",
      "source": [
        "# Inferencing on new data\n",
        "def get_string_labels(predicted_scores_batch):\n",
        "  predicted_int_labels = tf.argmax(predicted_scores_batch, axis=1)\n",
        "  predicted_labels = tf.gather(raw_train_ds.class_names,\n",
        "                               predicted_int_labels)\n",
        "  return predicted_labels\n",
        "\n",
        "inputs = [\n",
        "       \"how do I extract keys from a dict into a list?\",  # python\n",
        "       \"debug public static void main(string[] args) {...}\",  # java\n",
        "       ]\n",
        "predicted_scores = export_model.predict(inputs)\n",
        "predicted_labels = get_string_labels(predicted_scores)\n",
        "for input, label in zip(inputs, predicted_labels):\n",
        "  print(\"Question: \", input)\n",
        "  print(\"Predicted label: \", label.numpy())"
      ],
      "metadata": {
        "colab": {
          "base_uri": "https://localhost:8080/"
        },
        "id": "U_aWGnV9kSH4",
        "outputId": "b9023b79-1285-4b27-e8ad-350acaf22861"
      },
      "execution_count": null,
      "outputs": [
        {
          "output_type": "stream",
          "name": "stdout",
          "text": [
            "1/1 [==============================] - 0s 109ms/step\n",
            "Question:  how do I extract keys from a dict into a list?\n",
            "Predicted label:  b'csharp'\n",
            "Question:  debug public static void main(string[] args) {...}\n",
            "Predicted label:  b'csharp'\n"
          ]
        }
      ]
    },
    {
      "cell_type": "code",
      "source": [],
      "metadata": {
        "id": "GaVS5qhMkSug"
      },
      "execution_count": null,
      "outputs": []
    }
  ]
}